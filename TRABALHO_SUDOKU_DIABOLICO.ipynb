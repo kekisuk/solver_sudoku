{
  "cells": [
    {
      "cell_type": "code",
      "execution_count": null,
      "metadata": {
        "collapsed": true,
        "id": "YyfMdKLDF_Nj"
      },
      "outputs": [],
      "source": [
        "!pip install python-sat"
      ]
    },
    {
      "cell_type": "code",
      "execution_count": 216,
      "metadata": {
        "id": "jHxKHBsBGO5e"
      },
      "outputs": [],
      "source": [
        "from pysat.solvers import Glucose4, Solver"
      ]
    },
    {
      "cell_type": "code",
      "source": [
        "formula_fnc = Glucose4()"
      ],
      "metadata": {
        "id": "n28dJeIBwEz2"
      },
      "execution_count": 217,
      "outputs": []
    },
    {
      "cell_type": "code",
      "execution_count": 243,
      "metadata": {
        "id": "1d7hdiggGSYL"
      },
      "outputs": [],
      "source": [
        "#criação dos predicados\n",
        "sudoku_mapping = {} \n",
        "sudoku_mapping_inv = {}\n",
        "counter_mapping = 1\n",
        "for i in range(0,3): #linha do tabuleiro (9x9)\n",
        "  for j in range(0,3): #coluna do tabuleiro (9x9)\n",
        "    for p in range(0,3): #linha do quadrante (3x3)\n",
        "      for q in range(0,3):  #coluna do quadrante (3x3)\n",
        "        for pos in range(0,9): #posição de cada possibilidade (729)\n",
        "          position_string = \"sudoku_\" + str(i+1) + \"_\" + str(j+1) + \"_\" + str(p+1) + \"_\" + str(q+1) + \"_\" + str(pos+1)\n",
        "          sudoku_mapping[position_string] = counter_mapping\n",
        "          sudoku_mapping_inv[counter_mapping] = position_string\n",
        "          counter_mapping +=1"
      ]
    },
    {
      "cell_type": "code",
      "execution_count": null,
      "metadata": {
        "id": "8MfBSgDfeHYO"
      },
      "outputs": [],
      "source": [
        "display(sudoku_mapping)"
      ]
    },
    {
      "cell_type": "code",
      "execution_count": 220,
      "metadata": {
        "id": "qaSCJgQFGck8"
      },
      "outputs": [],
      "source": [
        "#regra 1 - deve haver ao menos um N em cada linha e coluna de 1 a 9\n",
        "for N in range(0,9):\n",
        "  for aux in range(0,3):\n",
        "    for p in range (0,3):\n",
        "      linha_sudoku = \"\"\n",
        "      for q in range(0,3):\n",
        "        linha_quadrante = \"\"\n",
        "        for aux2 in range(0,3):\n",
        "          linha_quadrante += \" sudoku_\" + str(p+1) + \"_\" + str(aux2+1) + \"_\" + str(aux+1) + \"_\" + str(q+1) + \"_\" + str(N+1)\n",
        "          linha_sudoku += linha_quadrante + \" \""
      ]
    },
    {
      "cell_type": "code",
      "execution_count": 223,
      "metadata": {
        "id": "tQ4J_slwGg0s"
      },
      "outputs": [],
      "source": [
        "#regra 2 - não repete um N de 1 a 9 em uma linha\n",
        "formula = []\n",
        "for N in range(0,9):\n",
        "  for p in range(0,3):\n",
        "    for i in range(0,3):\n",
        "      linha_sudoku = []\n",
        "      for q in range(0,3):\n",
        "        for j in range(0,3):\n",
        "          linha_sudoku.append(sudoku_mapping[\"sudoku_\" + str(i+1) + \"_\" + str(j+1) + \"_\" + str(p+1) + \"_\" + str(q+1) + \"_\" + str(N+1)])\n",
        "      formula.append(linha_sudoku)"
      ]
    },
    {
      "cell_type": "code",
      "execution_count": 225,
      "metadata": {
        "id": "CzOxxBne6vk4"
      },
      "outputs": [],
      "source": [
        "#regra 3 - não repete um N de 1 a 9 em uma coluna\n",
        "for N in range(0,9):\n",
        "  for p in range(0,3):\n",
        "    for i in range(0,3):\n",
        "      for q1 in range(0,3):\n",
        "        for j1 in range(0,3):\n",
        "          for q2 in range(0,3):\n",
        "            for j2 in range(j1,3):\n",
        "              if((\"-sudoku_\"+ str(i+1)+\"_\"+str(j1+1)+\"_\"+str(p+1)+\"_\"+str(q1+1)+\"_\"+str(N+1)) != \"-sudoku_\"+str(i+1)+\"_\"+str(j2+1)+\"_\"+str(p+1)+\"_\"+str(q2+1)+\"_\"+str(N+1)):\n",
        "                linha_sudoku =\"-sudoku_\"+str(i+1) + \"_\" + str(j1+1) + \"_\" + str (p+1) + \"_\" + str(q1+1) + \"_\" + str(N+1) + \" \"+ \"-sudoku_\" + str (i+1) + \"_\" + str(j2+1)+\"_\"+ str (p+1)+\"_\"+ str(q2+1) + \"_\" + str(N+1)"
      ]
    },
    {
      "cell_type": "code",
      "execution_count": 226,
      "metadata": {
        "id": "aOrDzYdtGm8z"
      },
      "outputs": [],
      "source": [
        "#regra 4 - não repete um N de 1 a 9 dentro do mesmo quadrante\n",
        "for N in range(0,9):\n",
        "  for p in range(0,3):\n",
        "    for i in range(0,3):\n",
        "      for q1 in range(0,3):\n",
        "        for j1 in range(0,3):\n",
        "          for q2 in range(0,3):\n",
        "            for j2 in range(j1,3):\n",
        "              linha_quadrante = []\n",
        "              if((\"-sudoku_\"+ str(i+1) + \"_\" + str(j1+1) + \"_\" + str(p+1) + \"_\" + str(q1+1) + \"_\" + str(N+1)) != \"-sudoku_\"+str(i+1)+\"_\"+str(j2+1)+\"_\"+str(p+1)+\"_\"+str(q2+1)+\"_\"+str(N+1)):\n",
        "                linha_quadrante.append(-1*sudoku_mapping[\"sudoku_\"+str(i+1)+\"_\"+str(j1+1)+\"_\"+str(p+1)+\"_\"+str(q1+1)+\"_\"+str(N+1)])\n",
        "                linha_quadrante.append(-1*sudoku_mapping[\"sudoku_\"+str(i+1)+\"_\"+str(j2+1)+\"_\"+str(p+1)+\"_\"+str(q2+1)+\"_\"+str(N+1)])"
      ]
    },
    {
      "cell_type": "code",
      "execution_count": 229,
      "metadata": {
        "id": "aqA8H3qXGnlD"
      },
      "outputs": [],
      "source": [
        "#regra 5 - não tem mais de um N de 1 a 9 dentro do mesmo quadradinho do quadrante\n",
        "for N in range(0,9):\n",
        "  for q in range(0,3):\n",
        "    for j in range(0,3):\n",
        "      for p1 in range(0,3):\n",
        "        for i1 in range(0,3):\n",
        "          for p2 in range(0,3):\n",
        "            for i2 in range(i1,3):\n",
        "              if((\"-sudoku_\" + str(i1+1) + \"_\" + str(j+1) + \"_\" + str(p1+1) + \"_\" +str(q+1)+ \"_\" + str(N+1)) != \"-sudoku_\"+ str(i2+1)+ \"_\" + str(j+1)+ \"_\" +str(p2+1) + \"_\" +str(q+1)+ \"_\" +str(N+1)):\n",
        "                linha_quadrante = \"-sudoku_\" + str(i1+1) + \"_\" + str(j+1) + \"_\" + str(p1+1) + \"_\" +str(q+1)+ \"_\" + str(N+1) + \" \" +\"-sudoku_\"+ str(i2+1)+ \"_\" + str(j+1)+ \"_\" +str(p2+1) + \"_\" +str(q+1)+ \"_\" +str(N+1)"
      ]
    },
    {
      "cell_type": "code",
      "execution_count": 230,
      "metadata": {
        "id": "ecyF1FztGxO1"
      },
      "outputs": [],
      "source": [
        "#regra 6 - adicionar as regras em 'formula' - parte 1\n",
        "for N in range (0,9):\n",
        "  for q in range(0,3):\n",
        "    for j in range(0,3):\n",
        "      for p1 in range(0,3):\n",
        "        for i1 in range(0,3):\n",
        "          for p2 in range(0,3):\n",
        "            for i2 in range(i1,3):\n",
        "              linha_quadrante = []\n",
        "              if((\"-sudoku_\" + str(i1+1) + \"_\" + str(j+1) + \"_\" + str(p1+1) + \"_\" + str(q+1) + \"_\" + str(N+1)) != \"-sudoku_\" + str(i2+1) + \"_\" + str(j+1) + \"_\" + str(p2+1) + \"_\" + str(q+1) + \"_\" + str(N+1)):\n",
        "                linha_quadrante.append (-1 * sudoku_mapping[\"sudoku_\" + str(i1+1) + \"_\" + str(j+1) + \"_\" + str(p1+1) + \"_\" + str(q+1) + \"_\" + str(N+1)])\n",
        "                linha_quadrante.append (-1 * sudoku_mapping[\"sudoku_\" + str(i2+1) + \"_\" + str(j+1) + \"_\" + str(p2+1) + \"_\" + str(q+1) + \"_\" + str(N+1)])\n",
        "                formula.append(linha_quadrante)           "
      ]
    },
    {
      "cell_type": "code",
      "execution_count": 231,
      "metadata": {
        "id": "TgwhfLGfGx_l"
      },
      "outputs": [],
      "source": [
        "for N in range(0,9):\n",
        "  for p in range(0,3):\n",
        "    for q in range(0,3):\n",
        "      for j1 in range(0,3):\n",
        "        for i1 in range(0,3):\n",
        "          for i2 in range(0,3):\n",
        "            for j2 in range(j1,3):\n",
        "              if((\"-sudoku_ \"+ str(i1+1)+ \"_\"+ str(j1+1)+ \"_\" +str(p+1) + \"_\" +str(q+1)+ \"_\" +str(N+1)) != \"-sudoku_\"+ str(i2+1)+ \"_\"+ str(j2+1)+ \"_\" +str(p+1) + \"_\" +str(q+1)+ \"_\" +str(N+1)):\n",
        "                linha_quadrante = \"-sudoku_ \" + str(i1+1)+ \"_\" + str(j1+1) + \"_\" +str(p+1) + \"_\" + str(q+1) + \"_\" +str(N+1) + \" \" + \"-sudoku_\"+ str(i2+1) + \"_\"+ str(j2+1)+ \"_\" +str(p+1) + \"_\" +str(q+1)+ \"_\" +str(N+1)            "
      ]
    },
    {
      "cell_type": "code",
      "execution_count": 232,
      "metadata": {
        "id": "MYa8hPZOkt1Z"
      },
      "outputs": [],
      "source": [
        "#regra 6 - adicionar as regras em 'formula' - parte 2\n",
        "for N in range(0,9):\n",
        "  for p in range(0,3):\n",
        "    for q in range(0,3):\n",
        "      for j1 in range(0,3):\n",
        "        for i1 in range(0,3):\n",
        "          for i2 in range(0,3):\n",
        "            for j2 in range(j1,3):\n",
        "              linha_quadrante = []\n",
        "              if((\"-sudoku_\" + str(i1+1) + \"_\" + str(j1+1) + \"_\" + str(p+1) + \"_\" +str(q+1)+ \"_\" + str(N+1)) != \"-sudoku_\"+ str(i2+1)+ \"_\" + str(j2+1)+ \"_\" +str(p+1) + \"_\" +str(q+1)+ \"_\" +str(N+1)):\n",
        "               linha_quadrante.append(-1 * sudoku_mapping[\"sudoku_\" + str(i1+1) + \"_\"+ str(j1+1)+ \"_\" + str(p+1) + \"_\" +str(q+1)+ \"_\" +str(N+1)])\n",
        "               linha_quadrante.append(-1 * sudoku_mapping[\"sudoku_\" + str(i2+1)+ \"_\"+ str(j2+1)+ \"_\" +str(p+1) + \"_\" +str(q+1)+ \"_\" +str(N+1)])\n",
        "               formula.append(linha_quadrante)"
      ]
    },
    {
      "cell_type": "code",
      "source": [
        "#regra 6 - adicionar as regras em 'formula' - parte 3\n",
        "for N in range(0,9):\n",
        "  for p in range(0,3):\n",
        "    for q in range(0,3):\n",
        "      for j in range(0,3):\n",
        "        for i in range(0,3):\n",
        "          for N2 in range(N,9):\n",
        "            linha_quadrante = []\n",
        "            if((\"-sudoku_\" + str(i+1) + \"_\" + str(j+1) + \"_\" + str(p+1) + \"_\" + str(q+1) + \"_\" + str(N+1)) != \"-sudoku_\" + str(i+1) + \"_\" + str(j+1) + \"_\" + str(p+1) + \"_\" + str(q+1) + \"_\" + str(N2+1)):\n",
        "\t            linha_quadrante.append (-1 * sudoku_mapping[\"sudoku_\" + str(i+1) + \"_\" + str(j+1) + \"_\" + str(p+1) + \"_\" + str(q+1) + \"_\" + str (N+1)])\n",
        "\t            linha_quadrante.append (-1 * sudoku_mapping[\"sudoku_\" + str(i+1) + \"_\" + str(j+1) + \"_\" + str(p+1) + \"_\" + str(q+1) + \"_\" + str (N2+1)])\n",
        "\t            formula.append(linha_quadrante)"
      ],
      "metadata": {
        "id": "rVLgJuGPuP_-"
      },
      "execution_count": 233,
      "outputs": []
    },
    {
      "cell_type": "code",
      "execution_count": null,
      "metadata": {
        "id": "jQxVt0KflEQB"
      },
      "outputs": [],
      "source": [
        "display(formula)"
      ]
    },
    {
      "cell_type": "code",
      "source": [
        "#sudoku - dificuldade: diabólica \n",
        "entradas = [4,173,23,183,413,340,586,33,135,358,362,289,456,685,616,139,66,300,473,321,479,729]\n",
        "\n",
        "for i in range (len(entradas)):\n",
        "  formula.append([entradas[i]])"
      ],
      "metadata": {
        "id": "KhPkRUTW2lOZ"
      },
      "execution_count": 236,
      "outputs": []
    },
    {
      "cell_type": "code",
      "source": [
        "display(entradas)"
      ],
      "metadata": {
        "id": "xdeK8Y8Y9bWB"
      },
      "execution_count": null,
      "outputs": []
    },
    {
      "cell_type": "code",
      "source": [
        "#resolver modelo\n",
        "formula_fnc = Glucose4()\n",
        "\n",
        "for entrada in formula:\n",
        "  formula_fnc.add_clause(entrada)"
      ],
      "metadata": {
        "id": "Pkp9h8wOpLAu"
      },
      "execution_count": 238,
      "outputs": []
    },
    {
      "cell_type": "code",
      "source": [
        "display(formula_fnc.solve())"
      ],
      "metadata": {
        "id": "gkmO9WgIpLOg"
      },
      "execution_count": null,
      "outputs": []
    },
    {
      "cell_type": "code",
      "execution_count": null,
      "metadata": {
        "id": "xqe6LuK7GzV0"
      },
      "outputs": [],
      "source": [
        "display(formula_fnc.get_model())"
      ]
    },
    {
      "cell_type": "code",
      "source": [
        "result = formula_fnc.get_model()\n",
        "cont = 0\n",
        "saida = [i for i in result if i > 0]\n",
        "\n",
        "print(\"SOLUÇÃO SUDOKU\")\n",
        "print(\" \")\n",
        "\n",
        "for sudoku in saida:\n",
        "  if(cont%3 == 0):\n",
        "      if(cont == 9):\n",
        "        cont = 0\n",
        "  print( sudoku_mapping_inv[sudoku] + ' :' + ' ' + str(cont+1) + ',' )\n",
        "  cont += 1"
      ],
      "metadata": {
        "id": "PlCruxXXq1lD"
      },
      "execution_count": null,
      "outputs": []
    }
  ],
  "metadata": {
    "colab": {
      "name": "TRABALHO_SUDOKU_DIABOLICO.ipynb",
      "provenance": [],
      "collapsed_sections": []
    },
    "kernelspec": {
      "display_name": "Python 3",
      "name": "python3"
    },
    "language_info": {
      "name": "python"
    }
  },
  "nbformat": 4,
  "nbformat_minor": 0
}